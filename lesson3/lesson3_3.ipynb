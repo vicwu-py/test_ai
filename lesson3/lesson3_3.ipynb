{
 "cells": [
  {
   "cell_type": "code",
   "execution_count": 1,
   "id": "8ca782f6",
   "metadata": {},
   "outputs": [
    {
     "name": "stdout",
     "output_type": "stream",
     "text": [
      "我未滿18\n",
      "我不可以考駕照\n"
     ]
    }
   ],
   "source": [
    "age=17\n",
    "\n",
    "if age>=18:\n",
    "    print(\"我滿18\")\n",
    "    print(\"我可以考駕照\")\n",
    "else:\n",
    "    print(\"我未滿18\")\n",
    "    print(\"我不可以考駕照\")"
   ]
  },
  {
   "cell_type": "code",
   "execution_count": 5,
   "id": "03654ac6",
   "metadata": {},
   "outputs": [
    {
     "name": "stdout",
     "output_type": "stream",
     "text": [
      "我滿18\n",
      "我可以考駕照\n"
     ]
    }
   ],
   "source": [
    "age=int(input(\"請輸入歲數\"))\n",
    "\n",
    "if age>=18:\n",
    "    print(\"我滿18\")\n",
    "    print(\"我可以考駕照\")\n",
    "else:\n",
    "    print(\"我未滿18\")\n",
    "    print(\"我不可以考駕照\")"
   ]
  },
  {
   "cell_type": "code",
   "execution_count": 10,
   "id": "cca66b7d",
   "metadata": {},
   "outputs": [
    {
     "name": "stdout",
     "output_type": "stream",
     "text": [
      "我滿18\n",
      "我可以考駕照\n"
     ]
    }
   ],
   "source": [
    "\n",
    "#最前面沒加入age=，會變成指示輸入數字沒有\n",
    "int(input(\"請輸入歲數\"))\n",
    "\n",
    "if age>=18:\n",
    "    print(\"我滿18\")\n",
    "    print(\"我可以考駕照\")\n",
    "else:\n",
    "    print(\"我未滿18\")\n",
    "    print(\"我不可以考駕照\")"
   ]
  }
 ],
 "metadata": {
  "kernelspec": {
   "display_name": "base",
   "language": "python",
   "name": "python3"
  },
  "language_info": {
   "codemirror_mode": {
    "name": "ipython",
    "version": 3
   },
   "file_extension": ".py",
   "mimetype": "text/x-python",
   "name": "python",
   "nbconvert_exporter": "python",
   "pygments_lexer": "ipython3",
   "version": "3.13.2"
  }
 },
 "nbformat": 4,
 "nbformat_minor": 5
}
