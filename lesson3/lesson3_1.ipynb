{
 "cells": [
  {
   "cell_type": "code",
   "execution_count": 1,
   "id": "43b3f2f4",
   "metadata": {},
   "outputs": [
    {
     "name": "stdout",
     "output_type": "stream",
     "text": [
      "hello world\n"
     ]
    }
   ],
   "source": [
    "print(\"hello world\")"
   ]
  },
  {
   "cell_type": "code",
   "execution_count": 4,
   "id": "588a4be3",
   "metadata": {},
   "outputs": [
    {
     "name": "stdout",
     "output_type": "stream",
     "text": [
      "斜邊是: 5.0\n"
     ]
    }
   ],
   "source": [
    "#請使用者輸入直角三角形的對邊\n",
    "#請使用者輸入直角三角形的鄰邊\n",
    "#計算斜邊\n",
    "\n",
    "import math\n",
    "\n",
    "side=int(input(\"請輸入對邊:\"))\n",
    "another_side=int(input(\"請輸入鄰邊:\"))\n",
    "result=math.sqrt(side**2+another_side**2)\n",
    "print(\"斜邊是:\",result)"
   ]
  },
  {
   "cell_type": "code",
   "execution_count": null,
   "id": "1648e29a",
   "metadata": {},
   "outputs": [],
   "source": []
  }
 ],
 "metadata": {
  "kernelspec": {
   "display_name": "base",
   "language": "python",
   "name": "python3"
  },
  "language_info": {
   "codemirror_mode": {
    "name": "ipython",
    "version": 3
   },
   "file_extension": ".py",
   "mimetype": "text/x-python",
   "name": "python",
   "nbconvert_exporter": "python",
   "pygments_lexer": "ipython3",
   "version": "3.13.2"
  }
 },
 "nbformat": 4,
 "nbformat_minor": 5
}
