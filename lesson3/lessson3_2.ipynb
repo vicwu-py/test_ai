{
 "cells": [
  {
   "cell_type": "code",
   "execution_count": 7,
   "id": "c003eb52",
   "metadata": {},
   "outputs": [
    {
     "name": "stdout",
     "output_type": "stream",
     "text": [
      "我的個人資料:\n",
      "姓名:\t吳宗哲\n",
      "性別:\t男\n"
     ]
    }
   ],
   "source": [
    "#字串的特殊符號\n",
    "#\\n -> 換行\n",
    "#\\t -> tab\n",
    "\n",
    "print(\"我的個人資料:\\n姓名:\\t吳宗哲\\n性別:\\t男\")\n"
   ]
  },
  {
   "cell_type": "code",
   "execution_count": 10,
   "id": "9ade5e17",
   "metadata": {},
   "outputs": [
    {
     "name": "stdout",
     "output_type": "stream",
     "text": [
      "我的個人資料\n",
      "姓名: 吳宗哲\n",
      "性別: 男\n"
     ]
    }
   ],
   "source": [
    "個資=\"\"\"我的個人資料\n",
    "姓名: 吳宗哲\n",
    "性別: 男\"\"\"\n",
    "print(個資)"
   ]
  },
  {
   "cell_type": "code",
   "execution_count": 15,
   "id": "774eb099",
   "metadata": {},
   "outputs": [
    {
     "name": "stdout",
     "output_type": "stream",
     "text": [
      "我的個人資料\n",
      "姓名: 吳宗哲\n",
      "性別: 男\n"
     ]
    }
   ],
   "source": [
    "info=\"\"\"我的個人資料\n",
    "姓名: 吳宗哲\n",
    "性別: 男\"\"\"\n",
    "print(個資)"
   ]
  }
 ],
 "metadata": {
  "kernelspec": {
   "display_name": "base",
   "language": "python",
   "name": "python3"
  },
  "language_info": {
   "codemirror_mode": {
    "name": "ipython",
    "version": 3
   },
   "file_extension": ".py",
   "mimetype": "text/x-python",
   "name": "python",
   "nbconvert_exporter": "python",
   "pygments_lexer": "ipython3",
   "version": "3.13.2"
  }
 },
 "nbformat": 4,
 "nbformat_minor": 5
}
