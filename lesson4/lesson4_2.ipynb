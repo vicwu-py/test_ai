{
 "cells": [
  {
   "cell_type": "code",
   "execution_count": 2,
   "id": "a320ae8a",
   "metadata": {},
   "outputs": [
    {
     "name": "stdout",
     "output_type": "stream",
     "text": [
      "不及格\n"
     ]
    }
   ],
   "source": [
    "scores =int(input(\"請輸入分數(0-100)\"))\n",
    "if scores>=60:\n",
    "    print(\"及格\")\n",
    "else:\n",
    "    print(\"不及格\")"
   ]
  },
  {
   "cell_type": "code",
   "execution_count": null,
   "id": "d80c8883",
   "metadata": {},
   "outputs": [
    {
     "name": "stdout",
     "output_type": "stream",
     "text": [
      "及格\n"
     ]
    }
   ],
   "source": [
    "scores =int(input(\"請輸入分數(0-100)\"))\n",
    "if scores>=90:\n",
    "    print(\"優\")\n",
    "else:\n",
    "    if scores>=60:\n",
    "        print(\"及格\")\n",
    "    else:\n",
    "        print(\"不及格\")\n",
    "\n",
    "\n",
    "        "
   ]
  },
  {
   "cell_type": "code",
   "execution_count": 10,
   "id": "e00eaf94",
   "metadata": {},
   "outputs": [
    {
     "name": "stdout",
     "output_type": "stream",
     "text": [
      "不及格\n"
     ]
    }
   ],
   "source": [
    "scores =int(input(\"請輸入分數(0-100)\"))\n",
    "if scores>=90:\n",
    "    print(\"優\")\n",
    "elif scores>=60:\n",
    "    print(\"及格\")\n",
    "else:\n",
    "    print(\"不及格\")\n"
   ]
  },
  {
   "cell_type": "code",
   "execution_count": 15,
   "id": "3a75052b",
   "metadata": {},
   "outputs": [
    {
     "name": "stdout",
     "output_type": "stream",
     "text": [
      "丁\n"
     ]
    }
   ],
   "source": [
    "scores =int(input(\"請輸入分數(0-100)\"))\n",
    "if scores>=90:\n",
    "    print(\"優\")\n",
    "elif scores>=80:\n",
    "    print(\"甲\")\n",
    "elif scores>=70:\n",
    "    print(\"乙\")\n",
    "elif scores>=60:\n",
    "    print(\"丙\")\n",
    "else:\n",
    "    print(\"丁\")\n"
   ]
  },
  {
   "cell_type": "code",
   "execution_count": 11,
   "id": "ea89fba0",
   "metadata": {},
   "outputs": [
    {
     "name": "stdout",
     "output_type": "stream",
     "text": [
      "====BMI計算=======\n",
      "\n",
      "您的BMI是15.43\n",
      "體重過輕\n"
     ]
    }
   ],
   "source": [
    "#計算BMI\n",
    "print(\"====BMI計算=======\\n\")\n",
    "\n",
    "height = int(input(\"請輸入計算(cm):\"))\n",
    "weight = int(input(\"請輸入體重(kg):\"))\n",
    "bmi= weight / (height/100) ** 2\n",
    "print(f\"您的BMI是{round(bmi,ndigits=2)}\")\n",
    "\n",
    "if bmi >35 :\n",
    "    print(\"重度肥\")\n",
    "elif bmi >30:\n",
    "    print(\"中度肥\")\n",
    "elif bmi >27 :\n",
    "    print(\"輕度肥胖\")\n",
    "elif bmi >24 :\n",
    "    print(\"過重\")\n",
    "elif bmi >18.5 :\n",
    "    print(\"正常範圍\")\n",
    "else:\n",
    "    print(\"體重過輕\")"
   ]
  },
  {
   "cell_type": "code",
   "execution_count": 6,
   "id": "98a6d708",
   "metadata": {},
   "outputs": [
    {
     "name": "stdout",
     "output_type": "stream",
     "text": [
      "及格\n",
      "及格\n"
     ]
    }
   ],
   "source": [
    "scores = int(input(\"請輸入學生分數:\"))\n",
    "\n",
    "if scores > 60:\n",
    "    print(\"及格\")\n",
    "else:\n",
    "    print(\"不及格\")\n",
    "\n",
    "if not (scores > 60):\n",
    "    print(\"不及格\")\n",
    "else:\n",
    "    print(\"及格\")"
   ]
  }
 ],
 "metadata": {
  "kernelspec": {
   "display_name": "base",
   "language": "python",
   "name": "python3"
  },
  "language_info": {
   "codemirror_mode": {
    "name": "ipython",
    "version": 3
   },
   "file_extension": ".py",
   "mimetype": "text/x-python",
   "name": "python",
   "nbconvert_exporter": "python",
   "pygments_lexer": "ipython3",
   "version": "3.13.2"
  }
 },
 "nbformat": 4,
 "nbformat_minor": 5
}
