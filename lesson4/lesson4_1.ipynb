{
 "cells": [
  {
   "cell_type": "code",
   "execution_count": 1,
   "id": "eab38dbc",
   "metadata": {},
   "outputs": [
    {
     "name": "stdout",
     "output_type": "stream",
     "text": [
      "可以考駕照\n"
     ]
    }
   ],
   "source": [
    "age=int(input(\"請輸入age:\"))\n",
    "\n",
    "if age>=18:\n",
    "    print(\"可以考駕照\")\n",
    "else:\n",
    "    print(\"不可以考駕照\")"
   ]
  },
  {
   "cell_type": "code",
   "execution_count": 6,
   "id": "fa13dc2d",
   "metadata": {},
   "outputs": [
    {
     "name": "stdout",
     "output_type": "stream",
     "text": [
      "76545.0\n"
     ]
    }
   ],
   "source": [
    "#學生分數為300\n",
    "#有些學生可以加分5%\n",
    "#如果加分超過300,就以300為主\n",
    "\n",
    "scores=int(input(\"請輸入學生分數(最高300分)\"))\n",
    "is_add=input(\"學生是否符合加分條件(yes,no)\")\n",
    "\n",
    "if(is_add==\"yes\"):\n",
    "    scores *=scores*1.05\n",
    "print(scores)"
   ]
  },
  {
   "cell_type": "code",
   "execution_count": null,
   "id": "ad73c149",
   "metadata": {},
   "outputs": [
    {
     "name": "stdout",
     "output_type": "stream",
     "text": [
      "283.5\n"
     ]
    }
   ],
   "source": [
    "#學生分數為300\n",
    "#有些學生可以加分5%\n",
    "#如果加分超過300,就以300為主\n",
    "\n",
    "scores=int(input(\"請輸入學生分數(最高300分)\"))\n",
    "is_add=input(\"學生是否符合加分條件(yes,no)\")\n",
    "\n",
    "if(is_add==\"yes\"): #單向選擇\n",
    "    scores *=1.05\n",
    "print(scores)"
   ]
  },
  {
   "cell_type": "code",
   "execution_count": 3,
   "id": "f80deb1b",
   "metadata": {},
   "outputs": [
    {
     "name": "stdout",
     "output_type": "stream",
     "text": [
      "300\n"
     ]
    }
   ],
   "source": [
    "#學生分數為300\n",
    "#有些學生可以加分5%\n",
    "#如果加分超過300,就以300為主\n",
    "\n",
    "scores=int(input(\"請輸入學生分數(最高300分)\"))\n",
    "is_add=input(\"學生是否符合加分條件(yes,no)\")\n",
    "\n",
    "if(is_add==\"yes\"): #單向選擇\n",
    "    scores *=1.05\n",
    "    if scores>300:\n",
    "        scores=300\n",
    "print(scores)"
   ]
  }
 ],
 "metadata": {
  "kernelspec": {
   "display_name": "base",
   "language": "python",
   "name": "python3"
  },
  "language_info": {
   "codemirror_mode": {
    "name": "ipython",
    "version": 3
   },
   "file_extension": ".py",
   "mimetype": "text/x-python",
   "name": "python",
   "nbconvert_exporter": "python",
   "pygments_lexer": "ipython3",
   "version": "3.13.2"
  }
 },
 "nbformat": 4,
 "nbformat_minor": 5
}
