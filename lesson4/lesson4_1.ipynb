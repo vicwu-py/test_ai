{
 "cells": [
  {
   "cell_type": "code",
   "execution_count": 1,
   "id": "eab38dbc",
   "metadata": {},
   "outputs": [
    {
     "name": "stdout",
     "output_type": "stream",
     "text": [
      "可以考駕照\n"
     ]
    }
   ],
   "source": [
    "age=int(input(\"請輸入age:\"))\n",
    "\n",
    "if age>=18:\n",
    "    print(\"可以考駕照\")\n",
    "else:\n",
    "    print(\"不可以考駕照\")"
   ]
  },
  {
   "cell_type": "code",
   "execution_count": 6,
   "id": "fa13dc2d",
   "metadata": {},
   "outputs": [
    {
     "name": "stdout",
     "output_type": "stream",
     "text": [
      "76545.0\n"
     ]
    }
   ],
   "source": [
    "#學生分數為300\n",
    "#有些學生可以加分5%\n",
    "#如果加分超過300,就以300為主\n",
    "\n",
    "scores=int(input(\"請輸入學生分數(最高300分)\"))\n",
    "is_add=input(\"學生是否符合加分條件(yes,no)\")\n",
    "\n",
    "if(is_add==\"yes\"):\n",
    "    scores *=scores*1.05\n",
    "print(scores)"
   ]
  },
  {
   "cell_type": "code",
   "execution_count": null,
   "id": "ad73c149",
   "metadata": {},
   "outputs": [
    {
     "name": "stdout",
     "output_type": "stream",
     "text": [
      "283.5\n"
     ]
    }
   ],
   "source": [
    "#學生分數為300\n",
    "#有些學生可以加分5%\n",
    "#如果加分超過300,就以300為主\n",
    "\n",
    "scores=int(input(\"請輸入學生分數(最高300分)\"))\n",
    "is_add=input(\"學生是否符合加分條件(yes,no)\")\n",
    "\n",
    "if(is_add==\"yes\"): #單向選擇\n",
    "    scores *=1.05\n",
    "print(scores)"
   ]
  },
  {
   "cell_type": "code",
   "execution_count": 4,
   "id": "f80deb1b",
   "metadata": {},
   "outputs": [
    {
     "name": "stdout",
     "output_type": "stream",
     "text": [
      "262.5\n"
     ]
    }
   ],
   "source": [
    "#學生分數為300\n",
    "#有些學生可以加分5%\n",
    "#如果加分超過300,就以300為主\n",
    "\n",
    "scores=int(input(\"請輸入學生分數(最高300分)\"))\n",
    "is_add=input(\"學生是否符合加分條件(yes,no)\")\n",
    "\n",
    "if(is_add==\"yes\"): #單向選擇\n",
    "    scores *=1.05\n",
    "    if scores>300:\n",
    "        scores=300\n",
    "print(scores)"
   ]
  },
  {
   "cell_type": "code",
   "execution_count": null,
   "id": "c979547b",
   "metadata": {},
   "outputs": [
    {
     "name": "stdout",
     "output_type": "stream",
     "text": [
      "262\n",
      "262.5\n"
     ]
    }
   ],
   "source": [
    "#學生分數為300\n",
    "#有些學生可以加分5%\n",
    "#如果加分超過300,就以300為主\n",
    "\n",
    "scores=int(input(\"請輸入學生分數(最高300分)\"))\n",
    "is_add=input(\"學生是否符合加分條件(yes,no)\")\n",
    "\n",
    "if(is_add==\"yes\"): #單向選擇\n",
    "    scores *=1.05\n",
    "    if scores>300: #利用巢狀判斷增加條件\n",
    "        scores=300\n",
    "print(round(scores))\n",
    "print(round(scores, ndigits=2))"
   ]
  },
  {
   "cell_type": "code",
   "execution_count": 19,
   "id": "0c814821",
   "metadata": {},
   "outputs": [
    {
     "name": "stdout",
     "output_type": "stream",
     "text": [
      "300\n",
      "應用程式結束\n"
     ]
    }
   ],
   "source": [
    "#學生分數為300\n",
    "#有些學生可以加分5%\n",
    "#如果加分超過300,就以300為主\n",
    "try:\n",
    "    scores=int(input(\"請輸入學生分數(最高300分)\"))\n",
    "    is_add=input(\"學生是否符合加分條件(yes,no)\")\n",
    "\n",
    "    if(is_add==\"yes\"): #單向選擇\n",
    "        scores *=1.05\n",
    "        if scores>300: #利用巢狀判斷增加條件\n",
    "            scores=300\n",
    "    print(round(scores))\n",
    "except ValueError:\n",
    "    print(\"輸入學生的分數，無法辨識\")\n",
    "except:\n",
    "    print(\"出現錯誤，請重新執行\")\n",
    "print(\"應用程式結束\")"
   ]
  },
  {
   "cell_type": "code",
   "execution_count": null,
   "id": "8f3061b0",
   "metadata": {},
   "outputs": [
    {
     "ename": "ValueError",
     "evalue": "invalid literal for int() with base 10: '19a'",
     "output_type": "error",
     "traceback": [
      "\u001b[31m---------------------------------------------------------------------------\u001b[39m",
      "\u001b[31mValueError\u001b[39m                                Traceback (most recent call last)",
      "\u001b[36mCell\u001b[39m\u001b[36m \u001b[39m\u001b[32mIn[10]\u001b[39m\u001b[32m, line 1\u001b[39m\n\u001b[32m----> \u001b[39m\u001b[32m1\u001b[39m money =\u001b[38;5;28;43mint\u001b[39;49m\u001b[43m(\u001b[49m\u001b[38;5;28;43minput\u001b[39;49m\u001b[43m(\u001b[49m\u001b[33;43m\"\u001b[39;49m\u001b[33;43m請輸入金額:\u001b[39;49m\u001b[33;43m\"\u001b[39;49m\u001b[43m)\u001b[49m\u001b[43m)\u001b[49m\n\u001b[32m      2\u001b[39m \u001b[38;5;28mprint\u001b[39m(money)\n",
      "\u001b[31mValueError\u001b[39m: invalid literal for int() with base 10: '19a'"
     ]
    }
   ],
   "source": [
    "money =int(input(\"請輸入金額:\"))\n",
    "print(money)"
   ]
  },
  {
   "cell_type": "code",
   "execution_count": 1,
   "id": "699e5bd5",
   "metadata": {},
   "outputs": [
    {
     "name": "stdout",
     "output_type": "stream",
     "text": [
      "出現錯誤\n"
     ]
    }
   ],
   "source": [
    "try:\n",
    "    money =int(input(\"請輸入金額:\"))\n",
    "    print(money)\n",
    "except:\n",
    "    print(\"出現錯誤\")"
   ]
  },
  {
   "cell_type": "code",
   "execution_count": 7,
   "id": "258a7ecf",
   "metadata": {},
   "outputs": [
    {
     "name": "stdout",
     "output_type": "stream",
     "text": [
      "出現錯誤\n",
      "應用程式結束\n"
     ]
    }
   ],
   "source": [
    "try:\n",
    "    money =int(input(\"請輸入金額:\"))\n",
    "    raise Exception(\"手動發出錯誤\")\n",
    "    print(money)\n",
    "except ValueError:\n",
    "    print(\"出現錯誤\")\n",
    "except:\n",
    "    print(\"不知名錯誤\")\n",
    "print(\"應用程式結束\")"
   ]
  }
 ],
 "metadata": {
  "kernelspec": {
   "display_name": "base",
   "language": "python",
   "name": "python3"
  },
  "language_info": {
   "codemirror_mode": {
    "name": "ipython",
    "version": 3
   },
   "file_extension": ".py",
   "mimetype": "text/x-python",
   "name": "python",
   "nbconvert_exporter": "python",
   "pygments_lexer": "ipython3",
   "version": "3.13.2"
  }
 },
 "nbformat": 4,
 "nbformat_minor": 5
}
